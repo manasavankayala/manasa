{
  "nbformat": 4,
  "nbformat_minor": 0,
  "metadata": {
    "colab": {
      "provenance": [],
      "authorship_tag": "ABX9TyPpgwF8ncFJ2QXaeuXuzam+",
      "include_colab_link": true
    },
    "kernelspec": {
      "name": "python3",
      "display_name": "Python 3"
    },
    "language_info": {
      "name": "python"
    }
  },
  "cells": [
    {
      "cell_type": "markdown",
      "metadata": {
        "id": "view-in-github",
        "colab_type": "text"
      },
      "source": [
        "<a href=\"https://colab.research.google.com/github/manasavankayala/manasa/blob/main/exp_6d.ipynb\" target=\"_parent\"><img src=\"https://colab.research.google.com/assets/colab-badge.svg\" alt=\"Open In Colab\"/></a>"
      ]
    },
    {
      "cell_type": "code",
      "execution_count": 1,
      "metadata": {
        "colab": {
          "base_uri": "https://localhost:8080/"
        },
        "id": "e3sZZLSIz8f2",
        "outputId": "a34a016b-0a93-4137-a31f-c9b2ceb1e7ec"
      },
      "outputs": [
        {
          "output_type": "stream",
          "name": "stdout",
          "text": [
            "\tMD5 ENCRYPTION ALGORITHM IN PYTHON\n",
            "\n",
            "Input String: \n",
            "\tThe quick brown fox jumps over the lazy dog\n",
            "\n",
            "The MD5 hash for the input string is:\n",
            "\t= 0x9e107d9d372bb6826bd81d3542a419d6\n",
            "\n",
            "\tMD5 Encryption Successfully Completed!!!\n",
            "\n"
          ]
        }
      ],
      "source": [
        "import math\n",
        "import struct\n",
        "\n",
        "def func0(abcd):\n",
        "    return (abcd[1] & abcd[2]) | (~abcd[1] & abcd[3])\n",
        "\n",
        "def func1(abcd):\n",
        "    return (abcd[3] & abcd[1]) | (~abcd[3] & abcd[2])\n",
        "\n",
        "def func2(abcd):\n",
        "    return abcd[1] ^ abcd[2] ^ abcd[3]\n",
        "\n",
        "def func3(abcd):\n",
        "    return abcd[2] ^ (abcd[1] | ~abcd[3])\n",
        "\n",
        "def calctable():\n",
        "    \"\"\"Precompute K table constants for MD5.\"\"\"\n",
        "    pwr = 2 ** 32\n",
        "    return [int(abs(math.sin(i + 1)) * pwr) & 0xFFFFFFFF for i in range(64)]\n",
        "\n",
        "def rol(x, n):\n",
        "    \"\"\"Rotate left (32-bit).\"\"\"\n",
        "    x &= 0xFFFFFFFF\n",
        "    return ((x << n) | (x >> (32 - n))) & 0xFFFFFFFF\n",
        "\n",
        "def md5(msg):\n",
        "    \"\"\"Compute MD5 digest manually.\"\"\"\n",
        "    # Initialize variables:\n",
        "    h = [0x67452301, 0xEFCDAB89, 0x98BADCFE, 0x10325476]\n",
        "    funcs = [func0, func1, func2, func3]\n",
        "    index_funcs = [\n",
        "        lambda i: i,\n",
        "        lambda i: (5 * i + 1) % 16,\n",
        "        lambda i: (3 * i + 5) % 16,\n",
        "        lambda i: (7 * i) % 16,\n",
        "    ]\n",
        "    shifts = [\n",
        "        [7, 12, 17, 22],\n",
        "        [5, 9, 14, 20],\n",
        "        [4, 11, 16, 23],\n",
        "        [6, 10, 15, 21],\n",
        "    ]\n",
        "    K = calctable()\n",
        "\n",
        "    # Pre-processing: padding\n",
        "    msg_bytes = bytearray(msg, \"utf-8\")\n",
        "    orig_len_in_bits = (8 * len(msg_bytes)) & 0xFFFFFFFFFFFFFFFF\n",
        "    msg_bytes.append(0x80)\n",
        "    while len(msg_bytes) % 64 != 56:\n",
        "        msg_bytes.append(0)\n",
        "    msg_bytes += struct.pack(\"<Q\", orig_len_in_bits)\n",
        "\n",
        "    # Process message in 512-bit chunks\n",
        "    for chunk_ofs in range(0, len(msg_bytes), 64):\n",
        "        a, b, c, d = h\n",
        "        chunk = msg_bytes[chunk_ofs:chunk_ofs + 64]\n",
        "        X = list(struct.unpack(\"<16I\", chunk))\n",
        "        for i in range(64):\n",
        "            f = funcs[i // 16]([a, b, c, d])\n",
        "            g = index_funcs[i // 16](i)\n",
        "            to_add = (a + f + K[i] + X[g]) & 0xFFFFFFFF\n",
        "            a, d, c, b = d, c, b, (b + rol(to_add, shifts[i // 16][i % 4])) & 0xFFFFFFFF\n",
        "        for i, val in enumerate([a, b, c, d]):\n",
        "            h[i] = (h[i] + val) & 0xFFFFFFFF\n",
        "\n",
        "    # Produce the final digest\n",
        "    digest = struct.pack(\"<4I\", *h)\n",
        "    return ''.join(f'{byte:02x}' for byte in digest)\n",
        "\n",
        "def main():\n",
        "    msg = \"The quick brown fox jumps over the lazy dog\"\n",
        "    print(\"\\tMD5 ENCRYPTION ALGORITHM IN PYTHON\\n\")\n",
        "    print(f\"Input String: \\n\\t{msg}\")\n",
        "    digest = md5(msg)\n",
        "    print(\"\\nThe MD5 hash for the input string is:\")\n",
        "    print(f\"\\t= 0x{digest}\")\n",
        "    print(\"\\n\\tMD5 Encryption Successfully Completed!!!\\n\")\n",
        "\n",
        "if __name__ == \"__main__\":\n",
        "    main()\n"
      ]
    }
  ]
}