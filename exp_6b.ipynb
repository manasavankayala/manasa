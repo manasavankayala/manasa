{
  "nbformat": 4,
  "nbformat_minor": 0,
  "metadata": {
    "colab": {
      "provenance": [],
      "authorship_tag": "ABX9TyMtuu9uSk8QETePaSFdLgbI",
      "include_colab_link": true
    },
    "kernelspec": {
      "name": "python3",
      "display_name": "Python 3"
    },
    "language_info": {
      "name": "python"
    }
  },
  "cells": [
    {
      "cell_type": "markdown",
      "metadata": {
        "id": "view-in-github",
        "colab_type": "text"
      },
      "source": [
        "<a href=\"https://colab.research.google.com/github/manasavankayala/manasa/blob/main/exp_6b.ipynb\" target=\"_parent\"><img src=\"https://colab.research.google.com/assets/colab-badge.svg\" alt=\"Open In Colab\"/></a>"
      ]
    },
    {
      "cell_type": "code",
      "execution_count": 5,
      "metadata": {
        "colab": {
          "base_uri": "https://localhost:8080/"
        },
        "id": "aJOEKU6Hw_mS",
        "outputId": "ee69644f-f154-4a65-9f14-e1e588f27f65"
      },
      "outputs": [
        {
          "output_type": "stream",
          "name": "stdout",
          "text": [
            "=== RSA ENCRYPTION AND DECRYPTION ===\n",
            "Enter first prime number (p): 11\n",
            "Enter second prime number (q): 13\n",
            "\n",
            "Public key (e, n): (7, 143)\n",
            "Private key (d, n): (103, 143)\n",
            "\n",
            "Enter the message to encrypt: hello\n",
            "\n",
            "Encrypted message (numeric): [91, 62, 4, 4, 45]\n",
            "\n",
            "Decrypted message: hello\n"
          ]
        }
      ],
      "source": [
        "import math\n",
        "\n",
        "def is_prime(num):\n",
        "    \"\"\"Check if a number is prime.\"\"\"\n",
        "    if num < 2:\n",
        "        return False\n",
        "    for i in range(2, int(math.sqrt(num)) + 1):\n",
        "        if num % i == 0:\n",
        "            return False\n",
        "    return True\n",
        "\n",
        "def gcd(a, b):\n",
        "    \"\"\"Compute GCD using Euclidean algorithm.\"\"\"\n",
        "    while b:\n",
        "        a, b = b, a % b\n",
        "    return a\n",
        "\n",
        "def mod_inverse(e, phi):\n",
        "    \"\"\"Compute modular inverse of e mod phi.\"\"\"\n",
        "    for d in range(2, phi):\n",
        "        if (d * e) % phi == 1:\n",
        "            return d\n",
        "    return None\n",
        "\n",
        "def encrypt(msg, e, n):\n",
        "    \"\"\"Encrypt the message with key (e, n).\"\"\"\n",
        "    cipher = [pow(ord(char), e, n) for char in msg]\n",
        "    return cipher\n",
        "\n",
        "def decrypt(cipher, d, n):\n",
        "    \"\"\"Decrypt the message with key (d, n).\"\"\"\n",
        "    plain = [chr(pow(c, d, n)) for c in cipher]\n",
        "    return ''.join(plain)\n",
        "\n",
        "def main():\n",
        "    print(\"=== RSA ENCRYPTION AND DECRYPTION ===\")\n",
        "\n",
        "    # Input prime numbers\n",
        "    p = int(input(\"Enter first prime number (p): \"))\n",
        "    q = int(input(\"Enter second prime number (q): \"))\n",
        "\n",
        "    if not is_prime(p) or not is_prime(q) or p == q:\n",
        "        print(\"Invalid input! Please enter distinct prime numbers.\")\n",
        "        return\n",
        "\n",
        "    n = p * q\n",
        "    phi = (p - 1) * (q - 1)\n",
        "\n",
        "    # Choose e such that 1 < e < phi and gcd(e, phi) == 1\n",
        "    e = None\n",
        "    for i in range(2, phi):\n",
        "        if gcd(i, phi) == 1:\n",
        "            e = i\n",
        "            break\n",
        "\n",
        "    if e is None:\n",
        "        print(\"Failed to find an appropriate 'e'.\")\n",
        "        return\n",
        "\n",
        "    # Find d (modular multiplicative inverse)\n",
        "    d = mod_inverse(e, phi)\n",
        "\n",
        "    print(f\"\\nPublic key (e, n): ({e}, {n})\")\n",
        "    print(f\"Private key (d, n): ({d}, {n})\")\n",
        "\n",
        "    # Input message\n",
        "    msg = input(\"\\nEnter the message to encrypt: \")\n",
        "\n",
        "    # Encrypt\n",
        "    cipher = encrypt(msg, e, n)\n",
        "    print(\"\\nEncrypted message (numeric):\", cipher)\n",
        "\n",
        "    # Decrypt\n",
        "    decrypted_msg = decrypt(cipher, d, n)\n",
        "    print(\"\\nDecrypted message:\", decrypted_msg)\n",
        "\n",
        "\n",
        "if __name__ == \"__main__\":\n",
        "    main()\n"
      ]
    }
  ]
}