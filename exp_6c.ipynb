{
  "nbformat": 4,
  "nbformat_minor": 0,
  "metadata": {
    "colab": {
      "provenance": [],
      "authorship_tag": "ABX9TyNZ6Q3JNCSY1szhaJcsJALw",
      "include_colab_link": true
    },
    "kernelspec": {
      "name": "python3",
      "display_name": "Python 3"
    },
    "language_info": {
      "name": "python"
    }
  },
  "cells": [
    {
      "cell_type": "markdown",
      "metadata": {
        "id": "view-in-github",
        "colab_type": "text"
      },
      "source": [
        "<a href=\"https://colab.research.google.com/github/manasavankayala/manasa/blob/main/exp_6c.ipynb\" target=\"_parent\"><img src=\"https://colab.research.google.com/assets/colab-badge.svg\" alt=\"Open In Colab\"/></a>"
      ]
    },
    {
      "cell_type": "code",
      "execution_count": 1,
      "metadata": {
        "colab": {
          "base_uri": "https://localhost:8080/"
        },
        "id": "GHoEkKbazUmv",
        "outputId": "12dcec8c-2213-4fc7-fb34-665783a0c348"
      },
      "outputs": [
        {
          "output_type": "stream",
          "name": "stdout",
          "text": [
            "=== Diffie–Hellman Key Exchange ===\n",
            "Enter the value of n (prime number): 7\n",
            "Enter the value of g (primitive root of n): 9\n",
            "Enter the private key x for the first person: 3\n",
            "Public key for first person (A): 1\n",
            "Enter the private key y for the second person: 6\n",
            "Public key for second person (B): 1\n",
            "\n",
            "Shared key for the first person: 1\n",
            "Shared key for the second person: 1\n",
            "\n",
            "✅ Key exchange successful! Both parties share the same key.\n"
          ]
        }
      ],
      "source": [
        "def power(a, b, mod):\n",
        "    \"\"\"Calculates (a^b) % mod using recursive exponentiation by squaring.\"\"\"\n",
        "    if b == 1:\n",
        "        return a % mod\n",
        "    t = power(a, b // 2, mod)\n",
        "    if b % 2 == 0:\n",
        "        return (t * t) % mod\n",
        "    else:\n",
        "        return ((t * t) % mod * a) % mod\n",
        "\n",
        "\n",
        "def main():\n",
        "    print(\"=== Diffie–Hellman Key Exchange ===\")\n",
        "\n",
        "    # Input prime modulus and primitive root\n",
        "    n = int(input(\"Enter the value of n (prime number): \"))\n",
        "    g = int(input(\"Enter the value of g (primitive root of n): \"))\n",
        "\n",
        "    # Private keys chosen by each participant\n",
        "    x = int(input(\"Enter the private key x for the first person: \"))\n",
        "    a = power(g, x, n)\n",
        "    print(f\"Public key for first person (A): {a}\")\n",
        "\n",
        "    y = int(input(\"Enter the private key y for the second person: \"))\n",
        "    b = power(g, y, n)\n",
        "    print(f\"Public key for second person (B): {b}\")\n",
        "\n",
        "    # Shared secret computation\n",
        "    key1 = power(b, x, n)  # Key computed by first person\n",
        "    key2 = power(a, y, n)  # Key computed by second person\n",
        "\n",
        "    print(f\"\\nShared key for the first person: {key1}\")\n",
        "    print(f\"Shared key for the second person: {key2}\")\n",
        "\n",
        "    # Check that the keys match\n",
        "    if key1 == key2:\n",
        "        print(\"\\n✅ Key exchange successful! Both parties share the same key.\")\n",
        "    else:\n",
        "        print(\"\\n❌ Error: Keys do not match.\")\n",
        "\n",
        "\n",
        "if __name__ == \"__main__\":\n",
        "    main()\n"
      ]
    }
  ]
}