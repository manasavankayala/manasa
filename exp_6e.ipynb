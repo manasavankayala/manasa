{
  "nbformat": 4,
  "nbformat_minor": 0,
  "metadata": {
    "colab": {
      "provenance": [],
      "authorship_tag": "ABX9TyMR+L3VcFyxY1ZyUilGc/q0",
      "include_colab_link": true
    },
    "kernelspec": {
      "name": "python3",
      "display_name": "Python 3"
    },
    "language_info": {
      "name": "python"
    }
  },
  "cells": [
    {
      "cell_type": "markdown",
      "metadata": {
        "id": "view-in-github",
        "colab_type": "text"
      },
      "source": [
        "<a href=\"https://colab.research.google.com/github/manasavankayala/manasa/blob/main/exp_6e.ipynb\" target=\"_parent\"><img src=\"https://colab.research.google.com/assets/colab-badge.svg\" alt=\"Open In Colab\"/></a>"
      ]
    },
    {
      "cell_type": "code",
      "execution_count": 1,
      "metadata": {
        "colab": {
          "base_uri": "https://localhost:8080/"
        },
        "id": "tfgixz3D0W3F",
        "outputId": "4bb4fd7f-cd8f-4062-ca8f-0c33269d3ba4"
      },
      "outputs": [
        {
          "output_type": "stream",
          "name": "stdout",
          "text": [
            "Message digest object info:\n",
            " Algorithm = sha1\n",
            " Provider = hashlib (Python standard library)\n",
            " Object = <sha1 _hashlib.HASH object @ 0x7b4a3506aaf0>\n",
            "\n",
            "SHA1(\"\") = DA39A3EE5E6B4B0D3255BFEF95601890AFD80709\n",
            "\n",
            "SHA1(\"abc\") = A9993E364706816ABA3E25717850C26C9CD0D89D\n",
            "\n",
            "SHA1(\"abcdefghijklmnopqrstuvwxyz\") = 32D10C7B8CF96570CA04CE37F2A19D84240D3A89\n",
            "\n"
          ]
        }
      ],
      "source": [
        "import hashlib\n",
        "\n",
        "def bytes_to_hex(b):\n",
        "    return ''.join(f'{byte:02X}' for byte in b)\n",
        "\n",
        "def sha1():\n",
        "    try:\n",
        "        # Create SHA1 hash object\n",
        "        md = hashlib.sha1()\n",
        "        print(\"Message digest object info:\")\n",
        "        print(f\" Algorithm = {md.name}\")\n",
        "        print(f\" Provider = hashlib (Python standard library)\")\n",
        "        print(f\" Object = {md}\")\n",
        "\n",
        "        # Test with empty string\n",
        "        input_str = \"\"\n",
        "        md = hashlib.sha1()\n",
        "        md.update(input_str.encode())\n",
        "        output = md.digest()\n",
        "        print(f\"\\nSHA1(\\\"{input_str}\\\") = {bytes_to_hex(output)}\")\n",
        "\n",
        "        # Test with \"abc\"\n",
        "        input_str = \"abc\"\n",
        "        md = hashlib.sha1()\n",
        "        md.update(input_str.encode())\n",
        "        output = md.digest()\n",
        "        print(f\"\\nSHA1(\\\"{input_str}\\\") = {bytes_to_hex(output)}\")\n",
        "\n",
        "        # Test with \"abcdefghijklmnopqrstuvwxyz\"\n",
        "        input_str = \"abcdefghijklmnopqrstuvwxyz\"\n",
        "        md = hashlib.sha1()\n",
        "        md.update(input_str.encode())\n",
        "        output = md.digest()\n",
        "        print(f\"\\nSHA1(\\\"{input_str}\\\") = {bytes_to_hex(output)}\\n\")\n",
        "\n",
        "    except Exception as e:\n",
        "        print(f\"Exception: {e}\")\n",
        "\n",
        "if __name__ == \"__main__\":\n",
        "    sha1()\n"
      ]
    }
  ]
}