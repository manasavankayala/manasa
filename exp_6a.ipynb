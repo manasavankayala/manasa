{
  "nbformat": 4,
  "nbformat_minor": 0,
  "metadata": {
    "colab": {
      "provenance": [],
      "authorship_tag": "ABX9TyM2grqFXr0fmsYXbRbAIpsV",
      "include_colab_link": true
    },
    "kernelspec": {
      "name": "python3",
      "display_name": "Python 3"
    },
    "language_info": {
      "name": "python"
    }
  },
  "cells": [
    {
      "cell_type": "markdown",
      "metadata": {
        "id": "view-in-github",
        "colab_type": "text"
      },
      "source": [
        "<a href=\"https://colab.research.google.com/github/manasavankayala/manasa/blob/main/exp_6a.ipynb\" target=\"_parent\"><img src=\"https://colab.research.google.com/assets/colab-badge.svg\" alt=\"Open In Colab\"/></a>"
      ]
    },
    {
      "cell_type": "code",
      "execution_count": 7,
      "metadata": {
        "colab": {
          "base_uri": "https://localhost:8080/"
        },
        "id": "29HuZe5puAGY",
        "outputId": "7ab27d79-c4b0-4e63-9567-e2dd3528f4aa"
      },
      "outputs": [
        {
          "output_type": "stream",
          "name": "stdout",
          "text": [
            "DES Symmetric key (hex): 61c98342f2d53793\n",
            "Enter message to encrypt: turncate\n",
            "Encrypted message (hex): 1bd1a17eb4f954ec157c6d4e609fb42a9a7574b7529f1923\n",
            "Decrypted message: turncate\n"
          ]
        }
      ],
      "source": [
        "from Crypto.Cipher import DES\n",
        "from Crypto.Util.Padding import pad, unpad\n",
        "from Crypto.Random import get_random_bytes\n",
        "import binascii\n",
        "\n",
        "class DESExample:\n",
        "    def __init__(self):\n",
        "        self.raw_key = self.generate_symmetric_key()\n",
        "        self.input_message = input(\"Enter message to encrypt: \")\n",
        "        # Encrypt the input message\n",
        "        encrypted_data = self.encrypt(self.raw_key, self.input_message.encode('utf-8'))\n",
        "        print(\"Encrypted message (hex):\", binascii.hexlify(encrypted_data).decode('utf-8'))\n",
        "        # Decrypt the message\n",
        "        decrypted_message = self.decrypt(self.raw_key, encrypted_data)\n",
        "        print(\"Decrypted message:\", decrypted_message.decode('utf-8'))\n",
        "\n",
        "    def generate_symmetric_key(self):\n",
        "        # Generate a random key for DES (must be 8 bytes)\n",
        "        key = get_random_bytes(8)\n",
        "        print(\"DES Symmetric key (hex):\", binascii.hexlify(key).decode('utf-8'))\n",
        "        return key\n",
        "\n",
        "    def encrypt(self, key, clear):\n",
        "        cipher = DES.new(key, DES.MODE_CBC)\n",
        "        padded_clear = pad(clear, DES.block_size)\n",
        "        iv = cipher.iv\n",
        "        encrypted = iv + cipher.encrypt(padded_clear)\n",
        "        return encrypted\n",
        "\n",
        "    def decrypt(self, key, encrypted):\n",
        "        iv = encrypted[:DES.block_size]\n",
        "        ciphertext = encrypted[DES.block_size:]\n",
        "        cipher = DES.new(key, DES.MODE_CBC, iv)\n",
        "        decrypted_padded = cipher.decrypt(ciphertext)\n",
        "        return unpad(decrypted_padded, DES.block_size)\n",
        "\n",
        "if __name__ == \"__main__\":\n",
        "    DESExample()\n"
      ]
    }
  ]
}