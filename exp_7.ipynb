{
  "nbformat": 4,
  "nbformat_minor": 0,
  "metadata": {
    "colab": {
      "provenance": [],
      "authorship_tag": "ABX9TyMvP9+K1oirIqOF1rmpEe9z",
      "include_colab_link": true
    },
    "kernelspec": {
      "name": "python3",
      "display_name": "Python 3"
    },
    "language_info": {
      "name": "python"
    }
  },
  "cells": [
    {
      "cell_type": "markdown",
      "metadata": {
        "id": "view-in-github",
        "colab_type": "text"
      },
      "source": [
        "<a href=\"https://colab.research.google.com/github/manasavankayala/manasa/blob/main/exp_7.ipynb\" target=\"_parent\"><img src=\"https://colab.research.google.com/assets/colab-badge.svg\" alt=\"Open In Colab\"/></a>"
      ]
    },
    {
      "cell_type": "code",
      "execution_count": 1,
      "metadata": {
        "colab": {
          "base_uri": "https://localhost:8080/"
        },
        "id": "aO6tfwCq0ui-",
        "outputId": "4f20c615-003a-4f5e-9a8a-08f607b9d471"
      },
      "outputs": [
        {
          "output_type": "stream",
          "name": "stdout",
          "text": [
            "\n",
            "Simulation of Digital Signature Algorithm (DSA)\n",
            "\n",
            "Global public key components:\n",
            "p = 10601\n",
            "q = 2\n",
            "g = 10600\n",
            "\n",
            "Secret information:\n",
            "x (private) = 1\n",
            "y (public) = 10600\n",
            "\n",
            "Generated digital signature:\n",
            "r = 0\n",
            "s = 1\n",
            "\n",
            "Verifying digital signature:\n",
            "w = 1, u1 = 1, u2 = 0, v = 0\n",
            "\n",
            "Success: digital signature verified! r = 0\n"
          ]
        }
      ],
      "source": [
        "import random\n",
        "from sympy import isprime, mod_inverse, nextprime\n",
        "\n",
        "class DSAAlg:\n",
        "\n",
        "    @staticmethod\n",
        "    def get_next_prime(start):\n",
        "        \"\"\"Get the next prime >= start\"\"\"\n",
        "        return int(nextprime(start - 1))\n",
        "\n",
        "    @staticmethod\n",
        "    def get_q(p):\n",
        "        \"\"\"Select a prime q that divides p-1\"\"\"\n",
        "        for i in range(2, p):\n",
        "            if (p - 1) % i == 0 and isprime(i):\n",
        "                return i\n",
        "        raise ValueError(\"No suitable q found\")\n",
        "\n",
        "    @staticmethod\n",
        "    def get_gen(p, q):\n",
        "        \"\"\"Generate a generator g\"\"\"\n",
        "        while True:\n",
        "            h = random.randint(2, p - 2)\n",
        "            g = pow(h, (p - 1) // q, p)\n",
        "            if g > 1:\n",
        "                return g\n",
        "\n",
        "    @staticmethod\n",
        "    def main():\n",
        "        # Generate parameters\n",
        "        p = DSAAlg.get_next_prime(10600)  # large prime\n",
        "        q = DSAAlg.get_q(p)\n",
        "        g = DSAAlg.get_gen(p, q)\n",
        "\n",
        "        print(\"\\nSimulation of Digital Signature Algorithm (DSA)\\n\")\n",
        "        print(\"Global public key components:\")\n",
        "        print(f\"p = {p}\\nq = {q}\\ng = {g}\")\n",
        "\n",
        "        # Generate keys\n",
        "        x = random.randint(1, q - 1)  # private key\n",
        "        y = pow(g, x, p)               # public key\n",
        "        print(\"\\nSecret information:\")\n",
        "        print(f\"x (private) = {x}\\ny (public) = {y}\")\n",
        "\n",
        "        # Sign a message (simulate hash value)\n",
        "        hash_val = random.randint(1, q - 1)\n",
        "        k = random.randint(1, q - 1)\n",
        "        r = pow(g, k, p) % q\n",
        "        k_inv = mod_inverse(k, q)\n",
        "        s = (k_inv * (hash_val + x * r)) % q\n",
        "\n",
        "        print(\"\\nGenerated digital signature:\")\n",
        "        print(f\"r = {r}\\ns = {s}\")\n",
        "\n",
        "        # Verify signature\n",
        "        w = mod_inverse(s, q)\n",
        "        u1 = (hash_val * w) % q\n",
        "        u2 = (r * w) % q\n",
        "        v = (pow(g, u1, p) * pow(y, u2, p)) % p % q\n",
        "\n",
        "        print(\"\\nVerifying digital signature:\")\n",
        "        print(f\"w = {w}, u1 = {u1}, u2 = {u2}, v = {v}\")\n",
        "\n",
        "        if v == r:\n",
        "            print(f\"\\nSuccess: digital signature verified! r = {r}\")\n",
        "        else:\n",
        "            print(\"\\nError: incorrect digital signature\")\n",
        "\n",
        "if __name__ == \"__main__\":\n",
        "    DSAAlg.main()\n"
      ]
    }
  ]
}